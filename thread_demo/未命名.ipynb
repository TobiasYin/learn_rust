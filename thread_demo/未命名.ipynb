{
 "cells": [
  {
   "cell_type": "code",
   "execution_count": 2,
   "id": "8f92facb",
   "metadata": {},
   "outputs": [],
   "source": [
    "from PIL import Image"
   ]
  },
  {
   "cell_type": "code",
   "execution_count": 7,
   "id": "22285141",
   "metadata": {},
   "outputs": [],
   "source": [
    "import numpy as np"
   ]
  },
  {
   "cell_type": "code",
   "execution_count": 4,
   "id": "707a4755",
   "metadata": {},
   "outputs": [],
   "source": [
    "import random"
   ]
  },
  {
   "cell_type": "code",
   "execution_count": 127,
   "id": "3eace9be",
   "metadata": {},
   "outputs": [],
   "source": [
    "import cv2"
   ]
  },
  {
   "cell_type": "code",
   "execution_count": 125,
   "id": "49341578",
   "metadata": {},
   "outputs": [],
   "source": [
    "image = Image.open(\"/Users/tobias/Pictures/screenshot/Snipaste_2021-09-13_18-43-22.png\")"
   ]
  },
  {
   "cell_type": "code",
   "execution_count": 128,
   "id": "01a88ac2",
   "metadata": {},
   "outputs": [],
   "source": [
    "arr = np.array(image)"
   ]
  },
  {
   "cell_type": "code",
   "execution_count": 129,
   "id": "4aa35795",
   "metadata": {},
   "outputs": [],
   "source": [
    "noiceRange = 50"
   ]
  },
  {
   "cell_type": "code",
   "execution_count": 130,
   "id": "ef2851e7",
   "metadata": {},
   "outputs": [],
   "source": [
    "noice = np.random.randint(-noiceRange, noiceRange, arr.shape)"
   ]
  },
  {
   "cell_type": "code",
   "execution_count": 131,
   "id": "ae7de6ad",
   "metadata": {},
   "outputs": [],
   "source": [
    "newData = np.array(arr, dtype=\"int\") + noice\n",
    "newData = ~(newData < 0) * newData\n",
    "newData = (newData > 255 ) * 255 + (newData <= 255) * newData"
   ]
  },
  {
   "cell_type": "code",
   "execution_count": 132,
   "id": "43affe61",
   "metadata": {},
   "outputs": [],
   "source": [
    "newData = np.array(newData, dtype=\"uint8\")"
   ]
  },
  {
   "cell_type": "code",
   "execution_count": 133,
   "id": "e1979eff",
   "metadata": {},
   "outputs": [],
   "source": [
    "img = Image.fromarray(newData)"
   ]
  },
  {
   "cell_type": "code",
   "execution_count": 123,
   "id": "e9c3b210",
   "metadata": {},
   "outputs": [],
   "source": [
    "#img.save(\"test.jpg\")"
   ]
  },
  {
   "cell_type": "code",
   "execution_count": 134,
   "id": "a3e7efaa",
   "metadata": {},
   "outputs": [],
   "source": [
    "def gaussian(im):\n",
    "    im = cv2.cvtColor(im, cv2.COLOR_BGR2GRAY)\n",
    "    b = np.array([[2, 4,  5,  2,  2],\n",
    "               [4, 9,  12, 9,  4],\n",
    "               [5, 12, 15, 12, 5],\n",
    "               [4, 9,  12, 9,  4],\n",
    "               [2, 4,  5,  4,  2]]) / 156\n",
    "    kernel = np.zeros(im.shape)\n",
    "    kernel[:b.shape[0], :b.shape[1]] = b\n",
    "\n",
    "    fim = np.fft.fft2(im)\n",
    "    fkernel = np.fft.fft2(kernel)\n",
    "    fil_im = np.fft.ifft2(fim * fkernel)\n",
    "\n",
    "    return abs(fil_im).astype(int)\n"
   ]
  },
  {
   "cell_type": "code",
   "execution_count": 164,
   "id": "4d235bb3",
   "metadata": {},
   "outputs": [],
   "source": [
    "a = gaussian(newData)"
   ]
  },
  {
   "cell_type": "code",
   "execution_count": 202,
   "id": "cfb92d70",
   "metadata": {},
   "outputs": [],
   "source": [
    "data = cv2.blur(newData, (3, 3))"
   ]
  },
  {
   "cell_type": "code",
   "execution_count": 203,
   "id": "46ed2100",
   "metadata": {},
   "outputs": [],
   "source": [
    "data = cv2.medianBlur(data, 3)"
   ]
  },
  {
   "cell_type": "code",
   "execution_count": 204,
   "id": "1beb7e34",
   "metadata": {},
   "outputs": [],
   "source": [
    "data = cv2.medianBlur(data, 3)"
   ]
  },
  {
   "cell_type": "code",
   "execution_count": 205,
   "id": "aa745d70",
   "metadata": {},
   "outputs": [],
   "source": [
    "data = cv2.GaussianBlur(data, (3, 3), 0)"
   ]
  },
  {
   "cell_type": "code",
   "execution_count": 206,
   "id": "a497af73",
   "metadata": {},
   "outputs": [],
   "source": [
    "#data = cv2.boxFilter(data, -1, (3, 3), normalize=1)"
   ]
  },
  {
   "cell_type": "code",
   "execution_count": 241,
   "id": "0dce3d81",
   "metadata": {},
   "outputs": [],
   "source": [
    "def color_map(data):\n",
    "    low = np.percentile(data, 0.1)\n",
    "    high = np.percentile(data, 99.9)\n",
    "    data = (data - low) / (high - low) * 255\n",
    "    data = np.array(data, dtype=\"int\")\n",
    "    data = ~(data < 0) * data\n",
    "    data = (data > 255 ) * 255 + (data <= 255) * data\n",
    "    return data"
   ]
  },
  {
   "cell_type": "code",
   "execution_count": 242,
   "id": "25d02e9a",
   "metadata": {},
   "outputs": [
    {
     "data": {
      "text/plain": [
       "251.0"
      ]
     },
     "execution_count": 242,
     "metadata": {},
     "output_type": "execute_result"
    }
   ],
   "source": [
    "np.percentile(data, 99.9)"
   ]
  },
  {
   "cell_type": "code",
   "execution_count": 215,
   "id": "1bf567d8",
   "metadata": {},
   "outputs": [
    {
     "data": {
      "text/plain": [
       "array([[248, 250, 241],\n",
       "       [248, 251, 241],\n",
       "       [248, 251, 241],\n",
       "       ...,\n",
       "       [240, 247, 244],\n",
       "       [239, 246, 245],\n",
       "       [238, 245, 246]], dtype=uint8)"
      ]
     },
     "execution_count": 215,
     "metadata": {},
     "output_type": "execute_result"
    }
   ],
   "source": [
    "data[1]"
   ]
  },
  {
   "cell_type": "code",
   "execution_count": 226,
   "id": "99daa43e",
   "metadata": {},
   "outputs": [],
   "source": [
    "a = np.array([[10, 7, 4], [3, 2, 1],[-1, -2, -3]])"
   ]
  },
  {
   "cell_type": "code",
   "execution_count": 227,
   "id": "142e5aa8",
   "metadata": {},
   "outputs": [
    {
     "data": {
      "text/plain": [
       "10.0"
      ]
     },
     "execution_count": 227,
     "metadata": {},
     "output_type": "execute_result"
    }
   ],
   "source": [
    "np.percentile(a, 100)"
   ]
  },
  {
   "cell_type": "code",
   "execution_count": 246,
   "id": "ed01e1e3",
   "metadata": {},
   "outputs": [],
   "source": [
    "newData = color_map(data)"
   ]
  },
  {
   "cell_type": "code",
   "execution_count": 263,
   "id": "c9f03d40",
   "metadata": {},
   "outputs": [
    {
     "data": {
      "text/plain": [
       "254.0"
      ]
     },
     "execution_count": 263,
     "metadata": {},
     "output_type": "execute_result"
    }
   ],
   "source": [
    "np.percentile(arr, 50)"
   ]
  },
  {
   "cell_type": "code",
   "execution_count": 279,
   "id": "425859a9",
   "metadata": {},
   "outputs": [],
   "source": [
    "def find_high(arr, low=0, high=100, target=254.9):\n",
    "    if high - low < 0.1:\n",
    "        return high\n",
    "    mid = (high + low) / 2\n",
    "    v = np.percentile(arr, mid)\n",
    "    print(high, low , v)\n",
    "    if abs(v - target) < 0.001:\n",
    "        return mid\n",
    "    if v > target:\n",
    "        return find_high(arr, low, mid, target)\n",
    "    if v < target:\n",
    "        return find_high(arr, mid, high, target)"
   ]
  },
  {
   "cell_type": "code",
   "execution_count": 280,
   "id": "1249c479",
   "metadata": {},
   "outputs": [
    {
     "name": "stdout",
     "output_type": "stream",
     "text": [
      "100 0 254.0\n",
      "100 50.0 255.0\n",
      "75.0 50.0 255.0\n",
      "62.5 50.0 255.0\n",
      "56.25 50.0 255.0\n",
      "53.125 50.0 255.0\n",
      "51.5625 50.0 255.0\n",
      "50.78125 50.0 255.0\n",
      "50.390625 50.0 254.0\n",
      "50.390625 50.1953125 254.0\n"
     ]
    },
    {
     "data": {
      "text/plain": [
       "50.390625"
      ]
     },
     "execution_count": 280,
     "metadata": {},
     "output_type": "execute_result"
    }
   ],
   "source": [
    "find_high(arr)"
   ]
  },
  {
   "cell_type": "code",
   "execution_count": null,
   "id": "82a73f55",
   "metadata": {},
   "outputs": [],
   "source": []
  }
 ],
 "metadata": {
  "kernelspec": {
   "display_name": "Python 3 (ipykernel)",
   "language": "python",
   "name": "python3"
  },
  "language_info": {
   "codemirror_mode": {
    "name": "ipython",
    "version": 3
   },
   "file_extension": ".py",
   "mimetype": "text/x-python",
   "name": "python",
   "nbconvert_exporter": "python",
   "pygments_lexer": "ipython3",
   "version": "3.9.6"
  }
 },
 "nbformat": 4,
 "nbformat_minor": 5
}
